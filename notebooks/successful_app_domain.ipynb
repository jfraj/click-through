{
 "cells": [
  {
   "cell_type": "markdown",
   "metadata": {},
   "source": [
    "#Which app_domain is the most successful?"
   ]
  },
  {
   "cell_type": "markdown",
   "metadata": {},
   "source": [
    "##Definition of succesful\n",
    "The purpose of measuring wether an add is clicked or not is to measure its efficiency to attract customers.  From the ad creator or host point of view, the revenu depends on the amount of clicks.  Therefore, the more clicks an ad receives *with respect* to the number of impressions (the event when an ad is availalble to be clicked).\n",
    "\n",
    "Practically, the success is defined as:\n",
    "\n",
    "sum(clicks)/(sum(clicks) + sum(non-clicks))"
   ]
  },
  {
   "cell_type": "markdown",
   "metadata": {},
   "source": [
    "##Simple answer to \"Most succesful app_domain\": 99b4c806 \n",
    "A python module has been written to determin the most succesful app_domain.  Here is how to get the answer:"
   ]
  },
  {
   "cell_type": "code",
   "execution_count": 1,
   "metadata": {
    "collapsed": true
   },
   "outputs": [],
   "source": [
    "import pandas as pd\n",
    "import sys\n",
    "sys.path.append('../')\n",
    "import click_succ"
   ]
  },
  {
   "cell_type": "code",
   "execution_count": 2,
   "metadata": {
    "collapsed": false
   },
   "outputs": [
    {
     "name": "stdout",
     "output_type": "stream",
     "text": [
      "Top sucessful results\n",
      "          clicked  notclicked   success  success_std\n",
      "99b4c806     6434        3607  0.640773     0.007988\n",
      "73fc6786       66          39  0.628571     0.077372\n",
      "eaaf6d12       33          20  0.622642     0.108388\n",
      "f5a7c834      103          63  0.620482     0.061138\n",
      "5bcedd7d       60          65  0.480000     0.061968\n",
      "b97def0d       52          81  0.390977     0.054219\n",
      "b8d325c3   124073      409927  0.232346     0.000660\n",
      "6f7ca2ba    51263      174837  0.226727     0.001001\n",
      "45a51db4    11291       44847  0.201129     0.001893\n",
      "0654b444     4679       18619  0.200833     0.002936\n",
      "\n",
      "Statistically comparable results:\n",
      "          clicked  notclicked   success  success_std\n",
      "99b4c806     6434        3607  0.640773     0.007988\n",
      "73fc6786       66          39  0.628571     0.077372\n",
      "eaaf6d12       33          20  0.622642     0.108388\n",
      "f5a7c834      103          63  0.620482     0.061138\n"
     ]
    }
   ],
   "source": [
    "df_train = pd.read_csv('../data/train.csv', dtype={'id': str})\n",
    "most_successful = click_succ.get_most_successfuls(df_train, \"app_domain\")"
   ]
  },
  {
   "cell_type": "markdown",
   "metadata": {},
   "source": [
    "The first element of the returned list is the most successful"
   ]
  },
  {
   "cell_type": "code",
   "execution_count": 3,
   "metadata": {
    "collapsed": false
   },
   "outputs": [
    {
     "data": {
      "text/plain": [
       "'99b4c806'"
      ]
     },
     "execution_count": 3,
     "metadata": {},
     "output_type": "execute_result"
    }
   ],
   "source": [
    "most_successful[0]"
   ]
  },
  {
   "cell_type": "markdown",
   "metadata": {},
   "source": [
    "##Some notes about confidence"
   ]
  },
  {
   "cell_type": "markdown",
   "metadata": {},
   "source": [
    "The app_domain 99b4c806 fits the above definition of most successful, but there is one thing that was not considered: how certain is this result?  Something that was not mentioned is that a minimum number of click was required (by default, it is 30).  This prevent case like 100% success just because one lucky click happened to an ad shown only once.\n",
    "\n",
    "A way to take into account statistical variations that increase with fewer clicks is to use standard deviation as defined by poisson statistics: std=sqrt(counts).  Since the number of clicks is scaled by the number of impressions (sum(clicks) + sum(non-clicks)), the same scaling applies to the std:\n",
    "\n",
    "std(success) = sqrt(sum(clicks)) / (sum(clicks) + sum(non-clicks))\n",
    "\n",
    "Assuming that the only source of variation is statistical, a confidence interval on the succes is defined as +/- std.  This can be translated to : **95% of the time the true rate lies within this interval**.  With this is mind, the above answer for the app_domain has a confidence interval that can overlap with other, slightly less successful, app_domain.  All overlapping app_domain are returned by `click_succ.get_most_successfuls()`, here they are "
   ]
  },
  {
   "cell_type": "code",
   "execution_count": 4,
   "metadata": {
    "collapsed": false
   },
   "outputs": [
    {
     "data": {
      "text/plain": [
       "['99b4c806', '73fc6786', 'eaaf6d12', 'f5a7c834']"
      ]
     },
     "execution_count": 4,
     "metadata": {},
     "output_type": "execute_result"
    }
   ],
   "source": [
    "most_successful"
   ]
  },
  {
   "cell_type": "markdown",
   "metadata": {},
   "source": [
    "With a 95% confidence, the most successful app is in the above list."
   ]
  }
 ],
 "metadata": {
  "kernelspec": {
   "display_name": "Python 2",
   "language": "python",
   "name": "python2"
  },
  "language_info": {
   "codemirror_mode": {
    "name": "ipython",
    "version": 2
   },
   "file_extension": ".py",
   "mimetype": "text/x-python",
   "name": "python",
   "nbconvert_exporter": "python",
   "pygments_lexer": "ipython2",
   "version": "2.7.9"
  }
 },
 "nbformat": 4,
 "nbformat_minor": 0
}
