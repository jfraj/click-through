{
 "cells": [
  {
   "cell_type": "markdown",
   "metadata": {},
   "source": [
    "#which banner position is the most successful?"
   ]
  },
  {
   "cell_type": "markdown",
   "metadata": {},
   "source": [
    "The code used for the app_domain can be used here by changing the first argument of `get_most_successfuls` to `banner_pos`"
   ]
  },
  {
   "cell_type": "code",
   "execution_count": 1,
   "metadata": {
    "collapsed": true
   },
   "outputs": [],
   "source": [
    "import pandas as pd\n",
    "import sys\n",
    "sys.path.append('../')\n",
    "import click_succ"
   ]
  },
  {
   "cell_type": "code",
   "execution_count": 2,
   "metadata": {
    "collapsed": false
   },
   "outputs": [
    {
     "name": "stdout",
     "output_type": "stream",
     "text": [
      "Top sucessful results\n",
      "            clicked  notclicked   success  success_std\n",
      "banner_pos                                            \n",
      "7             13949       29628  0.320100     0.002710\n",
      "4              1428        6276  0.185358     0.004905\n",
      "1           2065164     9182118  0.183614     0.000128\n",
      "3               372        1663  0.182801     0.009478\n",
      "0           4781901    24327689  0.164272     0.000075\n",
      "5               702        5076  0.121495     0.004586\n",
      "2              1550       11451  0.119222     0.003028\n"
     ]
    }
   ],
   "source": [
    "df_train = pd.read_csv('../data/train.csv', dtype={'id': str})\n",
    "most_successful = click_succ.get_most_successfuls(df_train, \"banner_pos\")"
   ]
  },
  {
   "cell_type": "markdown",
   "metadata": {},
   "source": [
    "## Answer: 7\n",
    "###(no confidence interval overlap)"
   ]
  }
 ],
 "metadata": {
  "kernelspec": {
   "display_name": "Python 2",
   "language": "python",
   "name": "python2"
  },
  "language_info": {
   "codemirror_mode": {
    "name": "ipython",
    "version": 2
   },
   "file_extension": ".py",
   "mimetype": "text/x-python",
   "name": "python",
   "nbconvert_exporter": "python",
   "pygments_lexer": "ipython2",
   "version": "2.7.9"
  }
 },
 "nbformat": 4,
 "nbformat_minor": 0
}
